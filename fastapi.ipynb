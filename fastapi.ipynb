{
  "nbformat": 4,
  "nbformat_minor": 0,
  "metadata": {
    "colab": {
      "name": "fastapi.ipynb",
      "provenance": []
    },
    "kernelspec": {
      "name": "python3",
      "display_name": "Python 3"
    }
  },
  "cells": [
    {
      "cell_type": "code",
      "metadata": {
        "id": "ijj55bOCUg71",
        "colab_type": "code",
        "colab": {
          "base_uri": "https://localhost:8080/",
          "height": 85
        },
        "outputId": "70b55e43-e792-4932-b4b0-b4678e3281c9"
      },
      "source": [
        "import requests\n",
        "\n",
        "url = \"https://sentiment-analysis-web-app.herokuapp.com/fast-api/{}\"\n",
        "\n",
        "texts = [\"you are doing great job\", \"are you mad man\", \"you are such a crap\", \"you are wasting my time\"]\n",
        "\n",
        "for text in texts:\n",
        "    request = requests.get(url.format(text)).json()\n",
        "\n",
        "    print(request[\"sentiment\"])"
      ],
      "execution_count": 23,
      "outputs": [
        {
          "output_type": "stream",
          "text": [
            "Positive\n",
            "Negative\n",
            "Negative\n",
            "Positive\n"
          ],
          "name": "stdout"
        }
      ]
    },
    {
      "cell_type": "code",
      "metadata": {
        "id": "iM7Uo5h2aONn",
        "colab_type": "code",
        "colab": {}
      },
      "source": [
        ""
      ],
      "execution_count": null,
      "outputs": []
    }
  ]
}